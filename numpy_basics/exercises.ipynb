{
 "cells": [
  {
   "cell_type": "code",
   "execution_count": null,
   "metadata": {},
   "outputs": [],
   "source": [
    "import numpy as np"
   ]
  },
  {
   "cell_type": "markdown",
   "metadata": {},
   "source": [
    "## 1. Array Creation\n",
    "\n",
    "1. Use `np.arange` function to create a numpy array with integers from 0~39 (inclusive).\n",
    "2. Use `np.linspace` function to create a numpy array with 40 numbers equally distributed between 10 and 100."
   ]
  },
  {
   "cell_type": "code",
   "execution_count": null,
   "metadata": {},
   "outputs": [],
   "source": [
    "## Put your code here\n",
    "\n",
    "x = ## number 1\n",
    "y = ## number 2"
   ]
  },
  {
   "cell_type": "markdown",
   "metadata": {},
   "source": [
    "## 2. Array reshaping\n",
    "\n",
    "* use `np.reshape` to reshape the two arrays created above to the shape of `(2, 4, 5)`."
   ]
  },
  {
   "cell_type": "code",
   "execution_count": null,
   "metadata": {},
   "outputs": [],
   "source": [
    "x_reshaped = \n",
    "y_reshaped ="
   ]
  },
  {
   "cell_type": "markdown",
   "metadata": {},
   "source": [
    "## 3. Array Operations"
   ]
  },
  {
   "cell_type": "markdown",
   "metadata": {},
   "source": [
    "### 3.1 Array addition\n",
    "\n",
    "1. Scalar addition: add 10 to the `x_reshaped` array from above.\n",
    "2. element-wise addition: add `x_reshaped` and `y_reshaped` together."
   ]
  },
  {
   "cell_type": "code",
   "execution_count": null,
   "metadata": {},
   "outputs": [],
   "source": [
    "## put your code here..."
   ]
  },
  {
   "cell_type": "markdown",
   "metadata": {},
   "source": [
    "### 3.2 Array multiplication\n",
    "\n",
    "1. Elementwise product: multiply `x_rehsaped` and `y_reshaped` element-wise (use `*`)\n",
    "2. Do a dot product of `x_rehsaped` and `y_reshaped`. (you need to transpose one of the matrix beforehand: the resulting array should have shape `(2, 4, 4)`)"
   ]
  },
  {
   "cell_type": "code",
   "execution_count": null,
   "metadata": {},
   "outputs": [],
   "source": [
    "## put your code here...\n",
    "\n",
    "element_product = \n",
    "dot_product = "
   ]
  },
  {
   "cell_type": "markdown",
   "metadata": {},
   "source": [
    "### 3.3 Concatenating vs Stack\n",
    "\n",
    "Try the following:\n",
    "* `np.stack([x_reshaped, y_reshaped])` \n",
    "* `np.concatenate([x_reshaped, y_reshaped], axis=0)`\n",
    "* `np.concatenate([x_reshaped, y_reshaped], axis=1)`\n",
    "* `np.concatenate([x_reshaped, y_reshaped], axis=2)`\n",
    "\n",
    "Print the shape and the content of the array of the result afterward. What is the difference afterwards?"
   ]
  },
  {
   "cell_type": "code",
   "execution_count": null,
   "metadata": {},
   "outputs": [],
   "source": [
    "## put your code here..."
   ]
  },
  {
   "cell_type": "markdown",
   "metadata": {},
   "source": [
    "Write your Answer Here"
   ]
  },
  {
   "cell_type": "markdown",
   "metadata": {},
   "source": [
    "## Using Pandas and Numpy Together"
   ]
  },
  {
   "cell_type": "code",
   "execution_count": null,
   "metadata": {},
   "outputs": [],
   "source": [
    "import pandas as pd"
   ]
  },
  {
   "cell_type": "code",
   "execution_count": null,
   "metadata": {},
   "outputs": [],
   "source": [
    "df = pd.read_csv('twitchdata-update.csv')\n",
    "\n",
    "df"
   ]
  },
  {
   "cell_type": "code",
   "execution_count": null,
   "metadata": {},
   "outputs": [],
   "source": [
    "df.columns"
   ]
  },
  {
   "cell_type": "markdown",
   "metadata": {},
   "source": [
    "1. Get `Average viewers` column from `df`."
   ]
  },
  {
   "cell_type": "code",
   "execution_count": null,
   "metadata": {},
   "outputs": [],
   "source": [
    "## Put your code here"
   ]
  },
  {
   "cell_type": "markdown",
   "metadata": {},
   "source": [
    "2. Get `Peak viewers`, `Average viewers`, `Followers` columns."
   ]
  },
  {
   "cell_type": "code",
   "execution_count": null,
   "metadata": {},
   "outputs": [],
   "source": [
    "## put your code here"
   ]
  },
  {
   "cell_type": "markdown",
   "metadata": {},
   "source": [
    "3. Get `Peak viewers`, `Average viewers`, `Followers` columns, and make it a numpy array."
   ]
  },
  {
   "cell_type": "code",
   "execution_count": null,
   "metadata": {},
   "outputs": [],
   "source": [
    "# put your code here\n",
    "np_array_data = "
   ]
  },
  {
   "cell_type": "markdown",
   "metadata": {},
   "source": [
    "### Min-Max Scaling\n",
    "\n",
    "We will now do something called min-max scaling.\n",
    "\n",
    "1. Find the minimum of each column. (hint: use `np.min(np_array_data)`. What should be the `axis` be?)\n",
    "2. Find the maximum of each column. (hint: use `np.max(np_array_data)`. What should be the `axis` be?)\n",
    "   \n",
    "  * The minimum array and maximum array each should have shape `(3,)`.\n",
    "\n",
    "3. reshape the minimum and the maximum to have shape `(1, 3)`.\n",
    "4. Now, we will perform scaling, with the following:\n",
    "\n",
    "```python\n",
    "scaled = (np_array_data - minimums) / (maximums - minimums)\n",
    "```\n",
    "\n",
    "5. After that, print `scaled`. You should have all numbers between 0 and 1."
   ]
  },
  {
   "cell_type": "code",
   "execution_count": null,
   "metadata": {},
   "outputs": [],
   "source": [
    "## Put your code here...\n",
    "# 1. find minimum of each column\n",
    "minimum =\n",
    "\n",
    "# 2. find maximum of each column\n",
    "maximum = \n",
    "\n",
    "# 3. reshape the minimum and maximum array\n",
    "\n",
    "\n",
    "# 4. scaling\n",
    "scaled = (np_array_data - minimum) / (maximum - minimum)\n",
    "\n",
    "print(scaled)"
   ]
  },
  {
   "cell_type": "code",
   "execution_count": null,
   "metadata": {},
   "outputs": [],
   "source": [
    "## if you did right, all numbers in scaled should be between 0 and 1\n",
    "assert scaled.max() <= 1, \"the maximum should be lower than 1\"\n",
    "assert scaled.max() >= 0, \"the minimum should be greater than 0\""
   ]
  },
  {
   "cell_type": "markdown",
   "metadata": {},
   "source": [
    "### Putting the scaled number back into the dataframe"
   ]
  },
  {
   "cell_type": "code",
   "execution_count": null,
   "metadata": {},
   "outputs": [],
   "source": [
    "df[['Peak viewers', 'Average viewers', 'Followers']] = scaled\n",
    "\n",
    "df"
   ]
  }
 ],
 "metadata": {
  "language_info": {
   "name": "python"
  },
  "orig_nbformat": 4
 },
 "nbformat": 4,
 "nbformat_minor": 2
}
