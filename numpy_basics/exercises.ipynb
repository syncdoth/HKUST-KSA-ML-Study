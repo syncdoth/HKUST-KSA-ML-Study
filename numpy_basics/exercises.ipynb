{
 "cells": [
  {
   "cell_type": "code",
   "execution_count": null,
   "metadata": {},
   "outputs": [],
   "source": [
    "import numpy as np"
   ]
  },
  {
   "cell_type": "markdown",
   "metadata": {},
   "source": [
    "## 1. Array Creation\n",
    "\n",
    "1. Use `np.arange` function to create a numpy array with integers from 0~39 (inclusive).\n",
    "2. Use `np.linspace` function to create a numpy array with 40 numbers equally distributed between 10 and 100."
   ]
  },
  {
   "cell_type": "code",
   "execution_count": null,
   "metadata": {},
   "outputs": [],
   "source": [
    "## Put your code here\n",
    "\n",
    "x = ## number 1\n",
    "y = ## number 2"
   ]
  },
  {
   "cell_type": "markdown",
   "metadata": {},
   "source": [
    "## 2. Array reshaping\n",
    "\n",
    "* use `np.reshape` to reshape the two arrays created above to the shape of `(2, 4, 5)`."
   ]
  },
  {
   "cell_type": "code",
   "execution_count": null,
   "metadata": {},
   "outputs": [],
   "source": [
    "x_reshaped = \n",
    "y_reshaped ="
   ]
  },
  {
   "cell_type": "markdown",
   "metadata": {},
   "source": [
    "## 3. Array Operations"
   ]
  },
  {
   "cell_type": "markdown",
   "metadata": {},
   "source": [
    "### 3.1 Array addition\n",
    "\n",
    "1. Scalar addition: add 10 to the `x_reshaped` array from above.\n",
    "2. element-wise addition: add `x_reshaped` and `y_reshaped` together."
   ]
  },
  {
   "cell_type": "code",
   "execution_count": null,
   "metadata": {},
   "outputs": [],
   "source": [
    "## put your code here..."
   ]
  },
  {
   "cell_type": "markdown",
   "metadata": {},
   "source": [
    "### 3.2 Array multiplication\n",
    "\n",
    "1. Elementwise product: multiply `x_rehsaped` and `y_reshaped` element-wise (use `*`)\n",
    "2. Do a dot product of `x_rehsaped` and `y_reshaped`. (you need to transpose one of the matrix beforehand: the resulting array should have shape `(2, 4, 4)`)"
   ]
  },
  {
   "cell_type": "code",
   "execution_count": null,
   "metadata": {},
   "outputs": [],
   "source": [
    "## put your code here...\n",
    "\n",
    "element_product = \n",
    "dot_product = "
   ]
  },
  {
   "cell_type": "markdown",
   "metadata": {},
   "source": [
    "### 3.3 Concatenating vs Stack\n",
    "\n",
    "Try the following:\n",
    "* `np.stack([x_reshaped, y_reshaped])` \n",
    "* `np.concatenate([x_reshaped, y_reshaped], axis=0)`\n",
    "* `np.concatenate([x_reshaped, y_reshaped], axis=1)`\n",
    "* `np.concatenate([x_reshaped, y_reshaped], axis=2)`\n",
    "\n",
    "Print the shape and the content of the array of the result afterward. What is the difference afterwards?"
   ]
  },
  {
   "cell_type": "code",
   "execution_count": null,
   "metadata": {},
   "outputs": [],
   "source": [
    "## put your code here..."
   ]
  },
  {
   "cell_type": "markdown",
   "metadata": {},
   "source": [
    "Write your Answer Here"
   ]
  },
  {
   "cell_type": "markdown",
   "metadata": {},
   "source": []
  }
 ],
 "metadata": {
  "language_info": {
   "name": "python"
  },
  "orig_nbformat": 4
 },
 "nbformat": 4,
 "nbformat_minor": 2
}
