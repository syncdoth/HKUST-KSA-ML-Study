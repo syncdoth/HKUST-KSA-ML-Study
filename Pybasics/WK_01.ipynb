{
 "cells": [
  {
   "cell_type": "markdown",
   "metadata": {},
   "source": [
    "# ML_Study\n",
    "\n",
    "## Week1: Python Basics \n",
    "\n",
    "### Data Types \n"
   ]
  },
  {
   "cell_type": "markdown",
   "metadata": {},
   "source": [
    "**Integer** : Numerical data type of integer, denoted int\n",
    "\n",
    "**Float** : Numerical data type of real numbers, denoted float\n",
    "\n",
    "**String** : Character string data type, denoted str\n",
    "\n",
    "**Boolean** : Logic value (True || False), denoted bool"
   ]
  },
  {
   "cell_type": "code",
   "execution_count": 87,
   "metadata": {},
   "outputs": [
    {
     "name": "stdout",
     "output_type": "stream",
     "text": [
      "<class 'int'> <class 'float'> <class 'str'> <class 'bool'>\n"
     ]
    }
   ],
   "source": [
    "a = 123\n",
    "b = 1.24\n",
    "c = 'hello' \n",
    "d = True\n",
    "print(type(a),type(b),type(c),type(d))"
   ]
  },
  {
   "cell_type": "markdown",
   "metadata": {},
   "source": [
    "### Variable\n",
    "\n",
    "Normally we store value into a *variable* for multiple use\n",
    "\n",
    "Naming rules\n",
    "\n",
    "* Must start with an underscore or letter\n",
    "\n",
    "* Cannot use integer at the front\n",
    "\n",
    "* Cannot use 'reserved words' from python library (e.g. int, elif, while...)"
   ]
  },
  {
   "cell_type": "code",
   "execution_count": 88,
   "metadata": {},
   "outputs": [
    {
     "data": {
      "text/plain": [
       "['False',\n",
       " 'None',\n",
       " 'True',\n",
       " 'and',\n",
       " 'as',\n",
       " 'assert',\n",
       " 'async',\n",
       " 'await',\n",
       " 'break',\n",
       " 'class',\n",
       " 'continue',\n",
       " 'def',\n",
       " 'del',\n",
       " 'elif',\n",
       " 'else',\n",
       " 'except',\n",
       " 'finally',\n",
       " 'for',\n",
       " 'from',\n",
       " 'global',\n",
       " 'if',\n",
       " 'import',\n",
       " 'in',\n",
       " 'is',\n",
       " 'lambda',\n",
       " 'nonlocal',\n",
       " 'not',\n",
       " 'or',\n",
       " 'pass',\n",
       " 'raise',\n",
       " 'return',\n",
       " 'try',\n",
       " 'while',\n",
       " 'with',\n",
       " 'yield']"
      ]
     },
     "execution_count": 88,
     "metadata": {},
     "output_type": "execute_result"
    }
   ],
   "source": [
    "import keyword\n",
    "keyword.kwlist"
   ]
  },
  {
   "cell_type": "markdown",
   "metadata": {},
   "source": [
    "### List\n",
    "\n",
    "Collection of elements (use [] to store values, and ',' in between\n",
    "\n",
    "Can have multiple data types within the same list"
   ]
  },
  {
   "cell_type": "code",
   "execution_count": 89,
   "metadata": {},
   "outputs": [
    {
     "name": "stdout",
     "output_type": "stream",
     "text": [
      "['Hello', 'nice', 'to', 'meet', 'you']\n",
      "[3, 4, 'Hello', [1, 2]]\n"
     ]
    }
   ],
   "source": [
    "a = ['Hello','nice','to','meet','you']\n",
    "print(a)\n",
    "b = [3,4,'Hello',[1,2]]\n",
    "print(b)"
   ]
  },
  {
   "cell_type": "markdown",
   "metadata": {},
   "source": [
    "They can be modified using different functions\n",
    "\n",
    "* **Indexing** : \n",
    "\n",
    "The value in the list can be extracted using list[index] format. Calculations are often used in this context.\n",
    "\n",
    "You can also determine the index of the element by using the key index()\n",
    "\n",
    "The index value starts from '0' in Python\n",
    "\n",
    "list[-index] : return the value starting from the end"
   ]
  },
  {
   "cell_type": "code",
   "execution_count": 90,
   "metadata": {},
   "outputs": [
    {
     "name": "stdout",
     "output_type": "stream",
     "text": [
      "The index of 3 is 2\n",
      "4\n",
      "5\n"
     ]
    }
   ],
   "source": [
    "l = [1,2,3,4,5]\n",
    "a = l[0] + l[2]\n",
    "print(\"The index of 3 is\", l.index(3))\n",
    "print(a) # 1 + 3\n",
    "print(l[-1]) #return 5"
   ]
  },
  {
   "cell_type": "markdown",
   "metadata": {},
   "source": [
    "* **Slicing** :\n",
    "\n",
    "You can easily deduce part of the list using the *slicing* method\n",
    "\n",
    "list[index_1:index_2] return list value between index_1 ~ index_2\n",
    "\n",
    "You can also set the starting / ending point of the slicing process\n"
   ]
  },
  {
   "cell_type": "code",
   "execution_count": 91,
   "metadata": {},
   "outputs": [
    {
     "name": "stdout",
     "output_type": "stream",
     "text": [
      "['a', 'b']\n",
      "['c', 'd', 'e']\n",
      "['a', 'b', 'c']\n"
     ]
    }
   ],
   "source": [
    "list = ['a','b','c','d','e']\n",
    "print(list[0:2])\n",
    "print(list[2:])\n",
    "print(list[:3])"
   ]
  },
  {
   "cell_type": "markdown",
   "metadata": {},
   "source": [
    "* **Modifications** :\n",
    "\n",
    "1. del() : delete the element in the list\n",
    "\n",
    "2. append() : add the element to the end of list\n",
    "\n",
    "3. sort() : sort the value in order\n",
    "\n",
    "4. insert() : insert the value *a* to index *b* list.insert(b,a)\n",
    "\n",
    "5. remove() : remove certain element from the list\n",
    "\n",
    "6. count(): count the element in the list\n",
    "\n",
    "7. extend(): concatenate another list"
   ]
  },
  {
   "cell_type": "code",
   "execution_count": 92,
   "metadata": {},
   "outputs": [
    {
     "name": "stdout",
     "output_type": "stream",
     "text": [
      "[1, 7, 2, 9, 3, 10]\n",
      "[1, 7, 2, 9, 3, 10, 1]\n",
      "[1, 1, 2, 3, 7, 9, 10]\n",
      "[1, 1, 99, 2, 3, 7, 9, 10]\n",
      "2\n",
      "[1, 1, 99, 2, 3, 7, 10, 'end', 'of', 'exercise']\n"
     ]
    }
   ],
   "source": [
    "lis = [1,4,7,2,9,3,10]\n",
    "del(lis[1]) #remove 1\n",
    "print(lis)\n",
    "lis.append(1) #add 11 to the end\n",
    "print(lis)\n",
    "lis.sort() #sort the list\n",
    "print(lis)\n",
    "lis.insert(2,99) #insert 99 at index 2\n",
    "print(lis)\n",
    "lis.remove(9) #remove 9\n",
    "print(lis.count(1))\n",
    "lis.extend(['end','of','exercise'])\n",
    "print(lis)\n"
   ]
  },
  {
   "cell_type": "markdown",
   "metadata": {},
   "source": [
    "* **Advanced Modifications** :\n",
    "\n",
    "Here we implement the concept of stack & Queue\n",
    "\n",
    "Stack is a linear data structure which insertion and deletion happen at the same end\n",
    "\n",
    "It follows FILO (First in Last out) || LIFO (Last in First Out) characteristic\n",
    "\n",
    "Following functions are used in stack\n",
    "\n",
    "* size() : return the size of the stack\n",
    "\n",
    "* pop() : delete the top-most element (or last element in list)\n",
    "\n",
    "* push method : add element to the top-most index (use  append() in list)\n"
   ]
  },
  {
   "cell_type": "code",
   "execution_count": 93,
   "metadata": {},
   "outputs": [
    {
     "name": "stdout",
     "output_type": "stream",
     "text": [
      "[1, 2, 3]\n",
      "[1, 2]\n"
     ]
    }
   ],
   "source": [
    "stack_init = []\n",
    "stack_init.append(1)\n",
    "stack_init.append(2)\n",
    "stack_init.append(3)\n",
    "print(stack_init)\n",
    "\n",
    "stack_init.pop() #pop out the last element\n",
    "print(stack_init)"
   ]
  },
  {
   "cell_type": "markdown",
   "metadata": {},
   "source": [
    "Deque class is often used in stack method, because it is quicker to add and pop the elements of the stack (Time-Complexity wise)"
   ]
  },
  {
   "cell_type": "code",
   "execution_count": 94,
   "metadata": {},
   "outputs": [
    {
     "name": "stdout",
     "output_type": "stream",
     "text": [
      "deque(['x', 'y', 'z'])\n"
     ]
    }
   ],
   "source": [
    "from collections import deque\n",
    "stack_init = deque()\n",
    "stack_init.append('x')\n",
    "stack_init.append('y')\n",
    "stack_init.append('z')\n",
    "\n",
    "print(stack_init)\n",
    "\n"
   ]
  },
  {
   "cell_type": "markdown",
   "metadata": {},
   "source": [
    "Another data stack type is *Queue* . In case of Queue, the size is pre-determined by max-size.\n",
    "\n",
    "* put() : add the element to the top-most stack\n",
    "\n",
    "* put_nowait() : \n",
    "\n",
    "* get(element) : return & pop the top-most (or last) element of the stack\n",
    "\n",
    "* get_nowait(element) : "
   ]
  },
  {
   "cell_type": "code",
   "execution_count": 95,
   "metadata": {},
   "outputs": [
    {
     "name": "stdout",
     "output_type": "stream",
     "text": [
      "True\n"
     ]
    },
    {
     "data": {
      "text/plain": [
       "'c'"
      ]
     },
     "execution_count": 95,
     "metadata": {},
     "output_type": "execute_result"
    }
   ],
   "source": [
    "from queue import LifoQueue \n",
    "se = LifoQueue(maxsize = 10)\n",
    "print(se.empty()) #true bc it is initialized\n",
    "\n",
    "se.put('a')\n",
    "se.put('b')\n",
    "se.put('c')\n",
    "\n",
    "se.get()"
   ]
  },
  {
   "cell_type": "code",
   "execution_count": null,
   "metadata": {},
   "outputs": [],
   "source": [
    "a = [1,2,3,4]  # list: mutable\n",
    "\n",
    "a.append(5)\n",
    "a.pop(0)\n",
    "\n",
    "b = (1,2,3,4)  # tuple: immutable\n",
    "b[0] = 5"
   ]
  },
  {
   "cell_type": "markdown",
   "metadata": {},
   "source": [
    "### Tuple\n",
    "\n",
    "Tuple is almost the same as the list, but has one difference: List can be modified, while tuple CANNOT be modified"
   ]
  },
  {
   "cell_type": "code",
   "execution_count": 96,
   "metadata": {},
   "outputs": [
    {
     "ename": "TypeError",
     "evalue": "'set' object doesn't support item deletion",
     "output_type": "error",
     "traceback": [
      "\u001b[0;31m---------------------------------------------------------------------------\u001b[0m",
      "\u001b[0;31mTypeError\u001b[0m                                 Traceback (most recent call last)",
      "\u001b[0;32m<ipython-input-96-d7685dc92858>\u001b[0m in \u001b[0;36m<module>\u001b[0;34m\u001b[0m\n\u001b[1;32m      1\u001b[0m \u001b[0mt\u001b[0m \u001b[0;34m=\u001b[0m \u001b[0;34m{\u001b[0m\u001b[0;36m1\u001b[0m\u001b[0;34m,\u001b[0m\u001b[0;36m2\u001b[0m\u001b[0;34m,\u001b[0m\u001b[0;36m3\u001b[0m\u001b[0;34m,\u001b[0m\u001b[0;36m4\u001b[0m\u001b[0;34m,\u001b[0m\u001b[0;34m'hello'\u001b[0m\u001b[0;34m}\u001b[0m\u001b[0;34m\u001b[0m\u001b[0;34m\u001b[0m\u001b[0m\n\u001b[0;32m----> 2\u001b[0;31m \u001b[0;32mdel\u001b[0m \u001b[0mt\u001b[0m\u001b[0;34m[\u001b[0m\u001b[0;36m2\u001b[0m\u001b[0;34m]\u001b[0m\u001b[0;34m\u001b[0m\u001b[0;34m\u001b[0m\u001b[0m\n\u001b[0m",
      "\u001b[0;31mTypeError\u001b[0m: 'set' object doesn't support item deletion"
     ]
    }
   ],
   "source": [
    "t = {1,2,3,4,'hello'}\n",
    "del t[2]"
   ]
  },
  {
   "cell_type": "markdown",
   "metadata": {},
   "source": [
    "### Dictionary\n",
    "\n",
    "Dictionary is a convenient way to search for the associating value. For example, when you search for the word in dictionary, there is a corresponding explanation of that certain word. Here is an example:"
   ]
  },
  {
   "cell_type": "code",
   "execution_count": null,
   "metadata": {},
   "outputs": [],
   "source": [
    "dict = {'name': '홍길동', 'phone number': '01012345678', 'address': 'HKUST', 'gender':'Male', 'favorite icecream': ['chocolate', 'vanilla']}\n",
    "print(dict['name'])\n",
    "print(dict['favorite icecream'])\n",
    "\n",
    "print(dict.keys()) #key values\n",
    "print(dict.values()) #list of values\n",
    "\n",
    "print(dict.get('phone number'))\n",
    "'address' in dict"
   ]
  }
 ],
 "metadata": {
  "kernelspec": {
   "display_name": "Python 3",
   "language": "python",
   "name": "python3"
  },
  "language_info": {
   "codemirror_mode": {
    "name": "ipython",
    "version": 3
   },
   "file_extension": ".py",
   "mimetype": "text/x-python",
   "name": "python",
   "nbconvert_exporter": "python",
   "pygments_lexer": "ipython3",
   "version": "3.8.3"
  }
 },
 "nbformat": 4,
 "nbformat_minor": 4
}
